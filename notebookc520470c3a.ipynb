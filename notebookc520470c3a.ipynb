{
 "cells": [
  {
   "cell_type": "code",
   "execution_count": 1,
   "id": "9a4d77c5",
   "metadata": {
    "_cell_guid": "b1076dfc-b9ad-4769-8c92-a6c4dae69d19",
    "_uuid": "8f2839f25d086af736a60e9eeb907d3b93b6e0e5",
    "execution": {
     "iopub.execute_input": "2023-10-25T18:20:00.969847Z",
     "iopub.status.busy": "2023-10-25T18:20:00.969252Z",
     "iopub.status.idle": "2023-10-25T18:20:01.321759Z",
     "shell.execute_reply": "2023-10-25T18:20:01.320216Z"
    },
    "papermill": {
     "duration": 0.358623,
     "end_time": "2023-10-25T18:20:01.323961",
     "exception": false,
     "start_time": "2023-10-25T18:20:00.965338",
     "status": "completed"
    },
    "tags": []
   },
   "outputs": [
    {
     "name": "stdout",
     "output_type": "stream",
     "text": [
      "/kaggle/input/customer-transactions/sample_dataset.csv\n"
     ]
    }
   ],
   "source": [
    "# This Python 3 environment comes with many helpful analytics libraries installed\n",
    "# It is defined by the kaggle/python Docker image: https://github.com/kaggle/docker-python\n",
    "# For example, here's several helpful packages to load\n",
    "\n",
    "import numpy as np # linear algebra\n",
    "import pandas as pd # data processing, CSV file I/O (e.g. pd.read_csv)\n",
    "\n",
    "# Input data files are available in the read-only \"../input/\" directory\n",
    "# For example, running this (by clicking run or pressing Shift+Enter) will list all files under the input directory\n",
    "\n",
    "import os\n",
    "for dirname, _, filenames in os.walk('/kaggle/input'):\n",
    "    for filename in filenames:\n",
    "        print(os.path.join(dirname, filename))\n",
    "\n",
    "# You can write up to 20GB to the current directory (/kaggle/working/) that gets preserved as output when you create a version using \"Save & Run All\" \n",
    "# You can also write temporary files to /kaggle/temp/, but they won't be saved outside of the current session"
   ]
  },
  {
   "cell_type": "code",
   "execution_count": 2,
   "id": "11aaa277",
   "metadata": {
    "execution": {
     "iopub.execute_input": "2023-10-25T18:20:01.330966Z",
     "iopub.status.busy": "2023-10-25T18:20:01.330548Z",
     "iopub.status.idle": "2023-10-25T18:20:01.335246Z",
     "shell.execute_reply": "2023-10-25T18:20:01.334260Z"
    },
    "papermill": {
     "duration": 0.009347,
     "end_time": "2023-10-25T18:20:01.337165",
     "exception": false,
     "start_time": "2023-10-25T18:20:01.327818",
     "status": "completed"
    },
    "tags": []
   },
   "outputs": [
    {
     "name": "stdout",
     "output_type": "stream",
     "text": [
      "me\n"
     ]
    }
   ],
   "source": [
    "print(\"me\")"
   ]
  },
  {
   "cell_type": "code",
   "execution_count": 3,
   "id": "44ca0825",
   "metadata": {
    "execution": {
     "iopub.execute_input": "2023-10-25T18:20:01.341903Z",
     "iopub.status.busy": "2023-10-25T18:20:01.341596Z",
     "iopub.status.idle": "2023-10-25T18:20:01.345653Z",
     "shell.execute_reply": "2023-10-25T18:20:01.345020Z"
    },
    "papermill": {
     "duration": 0.008427,
     "end_time": "2023-10-25T18:20:01.347480",
     "exception": false,
     "start_time": "2023-10-25T18:20:01.339053",
     "status": "completed"
    },
    "tags": []
   },
   "outputs": [
    {
     "name": "stdout",
     "output_type": "stream",
     "text": [
      "you\n"
     ]
    }
   ],
   "source": [
    "print(\"you\")"
   ]
  },
  {
   "cell_type": "code",
   "execution_count": null,
   "id": "d04b3955",
   "metadata": {
    "papermill": {
     "duration": 0.001664,
     "end_time": "2023-10-25T18:20:01.351011",
     "exception": false,
     "start_time": "2023-10-25T18:20:01.349347",
     "status": "completed"
    },
    "tags": []
   },
   "outputs": [],
   "source": []
  }
 ],
 "metadata": {
  "kernelspec": {
   "display_name": "Python 3",
   "language": "python",
   "name": "python3"
  },
  "language_info": {
   "codemirror_mode": {
    "name": "ipython",
    "version": 3
   },
   "file_extension": ".py",
   "mimetype": "text/x-python",
   "name": "python",
   "nbconvert_exporter": "python",
   "pygments_lexer": "ipython3",
   "version": "3.10.12"
  },
  "papermill": {
   "default_parameters": {},
   "duration": 3.741584,
   "end_time": "2023-10-25T18:20:01.670520",
   "environment_variables": {},
   "exception": null,
   "input_path": "__notebook__.ipynb",
   "output_path": "__notebook__.ipynb",
   "parameters": {},
   "start_time": "2023-10-25T18:19:57.928936",
   "version": "2.4.0"
  }
 },
 "nbformat": 4,
 "nbformat_minor": 5
}
